{
 "cells": [
  {
   "cell_type": "code",
   "execution_count": 1,
   "metadata": {},
   "outputs": [],
   "source": [
    "import pandas as pd\n",
    "import random\n",
    "import matplotlib.pyplot as plt\n",
    "import numpy as np"
   ]
  },
  {
   "cell_type": "code",
   "execution_count": 2,
   "metadata": {},
   "outputs": [],
   "source": [
    "#reading in a dataframe that contains image arrays, patient IDs (\"subject\"), and diagnosis\n",
    "m2 = pd.read_pickle(\"../../data/PDBP/MRI/mri_meta_2D_3slice.pkl\")"
   ]
  },
  {
   "cell_type": "code",
   "execution_count": 3,
   "metadata": {},
   "outputs": [
    {
     "data": {
      "text/html": [
       "<div>\n",
       "<style scoped>\n",
       "    .dataframe tbody tr th:only-of-type {\n",
       "        vertical-align: middle;\n",
       "    }\n",
       "\n",
       "    .dataframe tbody tr th {\n",
       "        vertical-align: top;\n",
       "    }\n",
       "\n",
       "    .dataframe thead th {\n",
       "        text-align: right;\n",
       "    }\n",
       "</style>\n",
       "<table border=\"1\" class=\"dataframe\">\n",
       "  <thead>\n",
       "    <tr style=\"text-align: right;\">\n",
       "      <th></th>\n",
       "      <th>img_array</th>\n",
       "      <th>label</th>\n",
       "      <th>PATNO Visit</th>\n",
       "    </tr>\n",
       "  </thead>\n",
       "  <tbody>\n",
       "    <tr>\n",
       "      <th>0</th>\n",
       "      <td>[[[0.0, 0.0, 0.0, 0.0, 0.0011767841623427358, ...</td>\n",
       "      <td>0</td>\n",
       "      <td>PDAA852XL7_BL</td>\n",
       "    </tr>\n",
       "    <tr>\n",
       "      <th>1</th>\n",
       "      <td>[[[0.0, 0.0, 2.811728418627604e-07, 0.00650700...</td>\n",
       "      <td>0</td>\n",
       "      <td>PDAA852XL7_BL</td>\n",
       "    </tr>\n",
       "    <tr>\n",
       "      <th>2</th>\n",
       "      <td>[[[1.1796301740695685, 0.06139827899334666, 2....</td>\n",
       "      <td>3</td>\n",
       "      <td>PDAA852XL7_V04</td>\n",
       "    </tr>\n",
       "    <tr>\n",
       "      <th>3</th>\n",
       "      <td>[[[0.4483691660864112, 2.0802978247019857, 1.4...</td>\n",
       "      <td>3</td>\n",
       "      <td>PDAA852XL7_V04</td>\n",
       "    </tr>\n",
       "    <tr>\n",
       "      <th>4</th>\n",
       "      <td>[[[336.42033162287026, 345.48838301793137, 481...</td>\n",
       "      <td>2</td>\n",
       "      <td>PDAD926WRZ_BL</td>\n",
       "    </tr>\n",
       "  </tbody>\n",
       "</table>\n",
       "</div>"
      ],
      "text/plain": [
       "                                           img_array label     PATNO Visit\n",
       "0  [[[0.0, 0.0, 0.0, 0.0, 0.0011767841623427358, ...     0   PDAA852XL7_BL\n",
       "1  [[[0.0, 0.0, 2.811728418627604e-07, 0.00650700...     0   PDAA852XL7_BL\n",
       "2  [[[1.1796301740695685, 0.06139827899334666, 2....     3  PDAA852XL7_V04\n",
       "3  [[[0.4483691660864112, 2.0802978247019857, 1.4...     3  PDAA852XL7_V04\n",
       "4  [[[336.42033162287026, 345.48838301793137, 481...     2   PDAD926WRZ_BL"
      ]
     },
     "execution_count": 3,
     "metadata": {},
     "output_type": "execute_result"
    }
   ],
   "source": [
    "m2.head()"
   ]
  },
  {
   "cell_type": "code",
   "execution_count": 4,
   "metadata": {},
   "outputs": [
    {
     "name": "stdout",
     "output_type": "stream",
     "text": [
      "5\n"
     ]
    }
   ],
   "source": [
    "max_count=0\n",
    "pre_ID=''\n",
    "count=0\n",
    "for i in range(len(m2)):\n",
    "    if m2['PATNO Visit'][i] == pre_ID:\n",
    "        count+=1\n",
    "        if count>max_count:\n",
    "            max_count=count\n",
    "        # m2['PATNO Visit'][i]=m2['PATNO Visit'][i]+f'_{count}'\n",
    "    else:\n",
    "        count=0\n",
    "        pre_ID=m2['PATNO Visit'][i]\n",
    "print(max_count)"
   ]
  },
  {
   "cell_type": "code",
   "execution_count": 5,
   "metadata": {},
   "outputs": [],
   "source": [
    "m2['PATNO Visit_2']=None"
   ]
  },
  {
   "cell_type": "code",
   "execution_count": 6,
   "metadata": {},
   "outputs": [],
   "source": [
    "# max_count=0\n",
    "pre_ID=''\n",
    "count=0\n",
    "for i in range(len(m2)):\n",
    "    if m2['PATNO Visit'][i] == pre_ID:\n",
    "        count+=1\n",
    "        # if count>max_count:\n",
    "        #     max_count=count\n",
    "        m2['PATNO Visit_2'][i]=m2['PATNO Visit'][i]+f'_{count}'\n",
    "    else:\n",
    "        count=0\n",
    "        m2['PATNO Visit_2'][i]=m2['PATNO Visit'][i]\n",
    "        pre_ID=m2['PATNO Visit'][i]\n",
    "# print(max_count)"
   ]
  },
  {
   "cell_type": "code",
   "execution_count": 7,
   "metadata": {},
   "outputs": [
    {
     "data": {
      "text/html": [
       "<div>\n",
       "<style scoped>\n",
       "    .dataframe tbody tr th:only-of-type {\n",
       "        vertical-align: middle;\n",
       "    }\n",
       "\n",
       "    .dataframe tbody tr th {\n",
       "        vertical-align: top;\n",
       "    }\n",
       "\n",
       "    .dataframe thead th {\n",
       "        text-align: right;\n",
       "    }\n",
       "</style>\n",
       "<table border=\"1\" class=\"dataframe\">\n",
       "  <thead>\n",
       "    <tr style=\"text-align: right;\">\n",
       "      <th></th>\n",
       "      <th>img_array</th>\n",
       "      <th>label</th>\n",
       "      <th>PATNO Visit</th>\n",
       "      <th>PATNO Visit_2</th>\n",
       "    </tr>\n",
       "  </thead>\n",
       "  <tbody>\n",
       "    <tr>\n",
       "      <th>0</th>\n",
       "      <td>[[[0.0, 0.0, 0.0, 0.0, 0.0011767841623427358, ...</td>\n",
       "      <td>0</td>\n",
       "      <td>PDAA852XL7_BL</td>\n",
       "      <td>PDAA852XL7_BL</td>\n",
       "    </tr>\n",
       "    <tr>\n",
       "      <th>1</th>\n",
       "      <td>[[[0.0, 0.0, 2.811728418627604e-07, 0.00650700...</td>\n",
       "      <td>0</td>\n",
       "      <td>PDAA852XL7_BL</td>\n",
       "      <td>PDAA852XL7_BL_1</td>\n",
       "    </tr>\n",
       "    <tr>\n",
       "      <th>2</th>\n",
       "      <td>[[[1.1796301740695685, 0.06139827899334666, 2....</td>\n",
       "      <td>3</td>\n",
       "      <td>PDAA852XL7_V04</td>\n",
       "      <td>PDAA852XL7_V04</td>\n",
       "    </tr>\n",
       "    <tr>\n",
       "      <th>3</th>\n",
       "      <td>[[[0.4483691660864112, 2.0802978247019857, 1.4...</td>\n",
       "      <td>3</td>\n",
       "      <td>PDAA852XL7_V04</td>\n",
       "      <td>PDAA852XL7_V04_1</td>\n",
       "    </tr>\n",
       "    <tr>\n",
       "      <th>4</th>\n",
       "      <td>[[[336.42033162287026, 345.48838301793137, 481...</td>\n",
       "      <td>2</td>\n",
       "      <td>PDAD926WRZ_BL</td>\n",
       "      <td>PDAD926WRZ_BL</td>\n",
       "    </tr>\n",
       "    <tr>\n",
       "      <th>...</th>\n",
       "      <td>...</td>\n",
       "      <td>...</td>\n",
       "      <td>...</td>\n",
       "      <td>...</td>\n",
       "    </tr>\n",
       "    <tr>\n",
       "      <th>596</th>\n",
       "      <td>[[[0.0, 0.0, 0.0, 0.0, 0.0, 3.444222347569655e...</td>\n",
       "      <td>5</td>\n",
       "      <td>PDZP161DT6_BL</td>\n",
       "      <td>PDZP161DT6_BL_1</td>\n",
       "    </tr>\n",
       "    <tr>\n",
       "      <th>597</th>\n",
       "      <td>[[[2.8106716349876066e-05, 3.9589970793743544e...</td>\n",
       "      <td>5</td>\n",
       "      <td>PDZP161DT6_V04</td>\n",
       "      <td>PDZP161DT6_V04</td>\n",
       "    </tr>\n",
       "    <tr>\n",
       "      <th>598</th>\n",
       "      <td>[[[0.07870353212478787, 0.4008974827956417, 0....</td>\n",
       "      <td>5</td>\n",
       "      <td>PDZP161DT6_V04</td>\n",
       "      <td>PDZP161DT6_V04_1</td>\n",
       "    </tr>\n",
       "    <tr>\n",
       "      <th>599</th>\n",
       "      <td>[[[0.00036399138914300876, 0.00218888977944204...</td>\n",
       "      <td>2</td>\n",
       "      <td>PDZT233BE7_BL</td>\n",
       "      <td>PDZT233BE7_BL</td>\n",
       "    </tr>\n",
       "    <tr>\n",
       "      <th>600</th>\n",
       "      <td>[[[0.0010962534102054713, 0.04735337449616719,...</td>\n",
       "      <td>2</td>\n",
       "      <td>PDZT233BE7_BL</td>\n",
       "      <td>PDZT233BE7_BL_1</td>\n",
       "    </tr>\n",
       "  </tbody>\n",
       "</table>\n",
       "<p>601 rows × 4 columns</p>\n",
       "</div>"
      ],
      "text/plain": [
       "                                             img_array label     PATNO Visit  \\\n",
       "0    [[[0.0, 0.0, 0.0, 0.0, 0.0011767841623427358, ...     0   PDAA852XL7_BL   \n",
       "1    [[[0.0, 0.0, 2.811728418627604e-07, 0.00650700...     0   PDAA852XL7_BL   \n",
       "2    [[[1.1796301740695685, 0.06139827899334666, 2....     3  PDAA852XL7_V04   \n",
       "3    [[[0.4483691660864112, 2.0802978247019857, 1.4...     3  PDAA852XL7_V04   \n",
       "4    [[[336.42033162287026, 345.48838301793137, 481...     2   PDAD926WRZ_BL   \n",
       "..                                                 ...   ...             ...   \n",
       "596  [[[0.0, 0.0, 0.0, 0.0, 0.0, 3.444222347569655e...     5   PDZP161DT6_BL   \n",
       "597  [[[2.8106716349876066e-05, 3.9589970793743544e...     5  PDZP161DT6_V04   \n",
       "598  [[[0.07870353212478787, 0.4008974827956417, 0....     5  PDZP161DT6_V04   \n",
       "599  [[[0.00036399138914300876, 0.00218888977944204...     2   PDZT233BE7_BL   \n",
       "600  [[[0.0010962534102054713, 0.04735337449616719,...     2   PDZT233BE7_BL   \n",
       "\n",
       "        PATNO Visit_2  \n",
       "0       PDAA852XL7_BL  \n",
       "1     PDAA852XL7_BL_1  \n",
       "2      PDAA852XL7_V04  \n",
       "3    PDAA852XL7_V04_1  \n",
       "4       PDAD926WRZ_BL  \n",
       "..                ...  \n",
       "596   PDZP161DT6_BL_1  \n",
       "597    PDZP161DT6_V04  \n",
       "598  PDZP161DT6_V04_1  \n",
       "599     PDZT233BE7_BL  \n",
       "600   PDZT233BE7_BL_1  \n",
       "\n",
       "[601 rows x 4 columns]"
      ]
     },
     "execution_count": 7,
     "metadata": {},
     "output_type": "execute_result"
    }
   ],
   "source": [
    "m2"
   ]
  },
  {
   "cell_type": "code",
   "execution_count": 8,
   "metadata": {},
   "outputs": [],
   "source": [
    "m2.to_pickle(\"../../data/PDBP/MRI/mri_meta_2D_3slice_nobrain_2.pkl\")"
   ]
  },
  {
   "cell_type": "markdown",
   "metadata": {},
   "source": [
    "## 处理完成"
   ]
  },
  {
   "cell_type": "code",
   "execution_count": 2,
   "metadata": {},
   "outputs": [],
   "source": [
    "m2 = pd.read_pickle(\"../../data/PDBP/MRI/mri_meta_2D_3slice_nobrain_2.pkl\")"
   ]
  },
  {
   "cell_type": "code",
   "execution_count": 3,
   "metadata": {},
   "outputs": [
    {
     "data": {
      "text/plain": [
       "(3, 72, 72)"
      ]
     },
     "execution_count": 3,
     "metadata": {},
     "output_type": "execute_result"
    }
   ],
   "source": [
    "m2['img_array'][0].shape"
   ]
  },
  {
   "cell_type": "code",
   "execution_count": 4,
   "metadata": {},
   "outputs": [
    {
     "data": {
      "text/plain": [
       "0    250\n",
       "2    184\n",
       "1     50\n",
       "3     43\n",
       "4     43\n",
       "5     31\n",
       "Name: label, dtype: int64"
      ]
     },
     "execution_count": 4,
     "metadata": {},
     "output_type": "execute_result"
    }
   ],
   "source": [
    "m2['label'].value_counts()"
   ]
  },
  {
   "cell_type": "code",
   "execution_count": 5,
   "metadata": {},
   "outputs": [
    {
     "data": {
      "text/plain": [
       "601"
      ]
     },
     "execution_count": 5,
     "metadata": {},
     "output_type": "execute_result"
    }
   ],
   "source": [
    "len(m2)"
   ]
  },
  {
   "cell_type": "code",
   "execution_count": 6,
   "metadata": {},
   "outputs": [
    {
     "data": {
      "text/plain": [
       "265"
      ]
     },
     "execution_count": 6,
     "metadata": {},
     "output_type": "execute_result"
    }
   ],
   "source": [
    "#there are 238 unique patients\n",
    "subjects = list(set(m2[\"PATNO Visit\"].values))\n",
    "len(subjects)"
   ]
  },
  {
   "cell_type": "code",
   "execution_count": 7,
   "metadata": {},
   "outputs": [
    {
     "data": {
      "text/plain": [
       "60.1"
      ]
     },
     "execution_count": 7,
     "metadata": {},
     "output_type": "execute_result"
    }
   ],
   "source": [
    "0.1*len(m2) #10% for testing"
   ]
  },
  {
   "cell_type": "markdown",
   "metadata": {},
   "source": [
    "## 独立验证集和测试集"
   ]
  },
  {
   "cell_type": "code",
   "execution_count": 8,
   "metadata": {},
   "outputs": [],
   "source": [
    "val = pd.read_pickle(\"../../processed_data/PDBP/overlap/X_val_img.pkl\")\n",
    "test = pd.read_pickle(\"../../processed_data/PDBP/overlap/X_test_img.pkl\")"
   ]
  },
  {
   "cell_type": "code",
   "execution_count": 9,
   "metadata": {},
   "outputs": [
    {
     "data": {
      "text/html": [
       "<div>\n",
       "<style scoped>\n",
       "    .dataframe tbody tr th:only-of-type {\n",
       "        vertical-align: middle;\n",
       "    }\n",
       "\n",
       "    .dataframe tbody tr th {\n",
       "        vertical-align: top;\n",
       "    }\n",
       "\n",
       "    .dataframe thead th {\n",
       "        text-align: right;\n",
       "    }\n",
       "</style>\n",
       "<table border=\"1\" class=\"dataframe\">\n",
       "  <thead>\n",
       "    <tr style=\"text-align: right;\">\n",
       "      <th></th>\n",
       "      <th>img_array</th>\n",
       "    </tr>\n",
       "    <tr>\n",
       "      <th>PATNO Visit_2</th>\n",
       "      <th></th>\n",
       "    </tr>\n",
       "  </thead>\n",
       "  <tbody>\n",
       "    <tr>\n",
       "      <th>PDUW145KTG_BL_1</th>\n",
       "      <td>[[[0.0025950802314105162, 0.00296410639839672,...</td>\n",
       "    </tr>\n",
       "    <tr>\n",
       "      <th>PDMW095JLA_BL_2</th>\n",
       "      <td>[[[0.0, 0.0, 4.0162018108264123e-07, 0.0059162...</td>\n",
       "    </tr>\n",
       "    <tr>\n",
       "      <th>PDGG982KFF_V04_1</th>\n",
       "      <td>[[[1.6649481389354994, 9.030369747719798, 7.59...</td>\n",
       "    </tr>\n",
       "    <tr>\n",
       "      <th>PDWE305WN6_BL_1</th>\n",
       "      <td>[[[0.0, 9.403041946753e-08, 1.8723356648251974...</td>\n",
       "    </tr>\n",
       "    <tr>\n",
       "      <th>PDBM325HN9_V04</th>\n",
       "      <td>[[[241.21257156795284, 287.84319703305067, 236...</td>\n",
       "    </tr>\n",
       "    <tr>\n",
       "      <th>...</th>\n",
       "      <td>...</td>\n",
       "    </tr>\n",
       "    <tr>\n",
       "      <th>PDDH347KKC_BL_3</th>\n",
       "      <td>[[[1.0988224490820833, 9.624231431235096, 4.53...</td>\n",
       "    </tr>\n",
       "    <tr>\n",
       "      <th>PDGT740ZXE_V04_1</th>\n",
       "      <td>[[[0.3046965266370312, 2.105169120556755, 1.29...</td>\n",
       "    </tr>\n",
       "    <tr>\n",
       "      <th>PDTJ033DDH_V04_1</th>\n",
       "      <td>[[[0.0, 0.0, 0.00039036270536293413, 1.0891428...</td>\n",
       "    </tr>\n",
       "    <tr>\n",
       "      <th>PDZF975VVM_BL</th>\n",
       "      <td>[[[0.0, 0.0, 0.0, 0.0, 0.0, 0.0, 0.0, 0.0, 0.0...</td>\n",
       "    </tr>\n",
       "    <tr>\n",
       "      <th>PDBH812DN5_BL</th>\n",
       "      <td>[[[0.0011105795481853, 0.4764046654975463, 0.5...</td>\n",
       "    </tr>\n",
       "  </tbody>\n",
       "</table>\n",
       "<p>106 rows × 1 columns</p>\n",
       "</div>"
      ],
      "text/plain": [
       "                                                          img_array\n",
       "PATNO Visit_2                                                      \n",
       "PDUW145KTG_BL_1   [[[0.0025950802314105162, 0.00296410639839672,...\n",
       "PDMW095JLA_BL_2   [[[0.0, 0.0, 4.0162018108264123e-07, 0.0059162...\n",
       "PDGG982KFF_V04_1  [[[1.6649481389354994, 9.030369747719798, 7.59...\n",
       "PDWE305WN6_BL_1   [[[0.0, 9.403041946753e-08, 1.8723356648251974...\n",
       "PDBM325HN9_V04    [[[241.21257156795284, 287.84319703305067, 236...\n",
       "...                                                             ...\n",
       "PDDH347KKC_BL_3   [[[1.0988224490820833, 9.624231431235096, 4.53...\n",
       "PDGT740ZXE_V04_1  [[[0.3046965266370312, 2.105169120556755, 1.29...\n",
       "PDTJ033DDH_V04_1  [[[0.0, 0.0, 0.00039036270536293413, 1.0891428...\n",
       "PDZF975VVM_BL     [[[0.0, 0.0, 0.0, 0.0, 0.0, 0.0, 0.0, 0.0, 0.0...\n",
       "PDBH812DN5_BL     [[[0.0011105795481853, 0.4764046654975463, 0.5...\n",
       "\n",
       "[106 rows x 1 columns]"
      ]
     },
     "execution_count": 9,
     "metadata": {},
     "output_type": "execute_result"
    }
   ],
   "source": [
    "val"
   ]
  },
  {
   "cell_type": "code",
   "execution_count": 10,
   "metadata": {},
   "outputs": [],
   "source": [
    "X_val_list=val.index.values.tolist()\n",
    "X_test_list=test.index.values.tolist()"
   ]
  },
  {
   "cell_type": "code",
   "execution_count": 11,
   "metadata": {},
   "outputs": [
    {
     "data": {
      "text/plain": [
       "['PDUW145KTG_BL_1',\n",
       " 'PDMW095JLA_BL_2',\n",
       " 'PDGG982KFF_V04_1',\n",
       " 'PDWE305WN6_BL_1',\n",
       " 'PDBM325HN9_V04',\n",
       " 'PDCU078TPD_BL',\n",
       " 'PDLK590MJW_BL_1',\n",
       " 'PDTR041EA2_BL_1',\n",
       " 'PDCZ471WCM_V04',\n",
       " 'PDEF493NCC_V04',\n",
       " 'PDPU141TKL_V04_1',\n",
       " 'PDAZ576HCR_V04',\n",
       " 'PDBH812DN5_BL',\n",
       " 'PDXG271PPK_V04_1',\n",
       " 'PDRN834DK4_BL',\n",
       " 'PDKJ872VYL_BL',\n",
       " 'PDMA573PD4_BL_3',\n",
       " 'PDUC776GGC_BL_1',\n",
       " 'PDWJ435ZVW_V04',\n",
       " 'PDMX357NA5_V04_1',\n",
       " 'PDKV064XUJ_BL_1',\n",
       " 'PDBT851HER_V04_1',\n",
       " 'PDZL485TYY_BL_1',\n",
       " 'PDYZ739JVN_BL',\n",
       " 'PDPR400MP1_V04',\n",
       " 'PDTJ033DDH_BL_1',\n",
       " 'PDEK907WA4_BL_3',\n",
       " 'PDYZ739JVN_BL_1',\n",
       " 'PDTL595HDJ_BL',\n",
       " 'PDLV256ED0_BL_1',\n",
       " 'PDUP618NM2_BL',\n",
       " 'PDBT851HER_BL_1',\n",
       " 'PDWJ435ZVW_V04_1',\n",
       " 'PDFK955YBE_V04',\n",
       " 'PDBT851HER_BL',\n",
       " 'PDPR400MP1_BL_1',\n",
       " 'PDGB843WCC_BL',\n",
       " 'PDGF224MZ2_BL_3',\n",
       " 'PDEF493NCC_V04_1',\n",
       " 'PDLC368NK0_BL',\n",
       " 'PDMA892CMD_BL',\n",
       " 'PDPU141TKL_V04',\n",
       " 'PDUF321KLQ_BL',\n",
       " 'PDFG125PDY_BL',\n",
       " 'PDZM701FHJ_BL',\n",
       " 'PDDP600WC0_BL',\n",
       " 'PDJG517EFR_BL_1',\n",
       " 'PDUW145KTG_BL',\n",
       " 'PDHH278CJZ_BL_1',\n",
       " 'PDMA573PD4_V04_1',\n",
       " 'PDEE898RK4_V04',\n",
       " 'PDVE077NFG_BL_3',\n",
       " 'PDMX340URX_BL_2',\n",
       " 'PDLT301DLN_BL_5',\n",
       " 'PDPH346NJH_BL',\n",
       " 'PDPF981YTV_BL',\n",
       " 'PDLK590MJW_BL',\n",
       " 'PDZL485TYY_BL',\n",
       " 'PDYP220GJ8_BL_1',\n",
       " 'PDBG857AZQ_V04',\n",
       " 'PDXH707PEJ_V04_1',\n",
       " 'PDDH347KKC_BL',\n",
       " 'PDNW868YJ6_BL_3',\n",
       " 'PDRZ416EPJ_BL',\n",
       " 'PDLP335XP7_BL',\n",
       " 'PDAP978ED4_V04_1',\n",
       " 'PDDN205NVZ_BL_1',\n",
       " 'PDPH346NJH_BL_3',\n",
       " 'PDXX339LJU_V04_1',\n",
       " 'PDEK907WA4_BL_2',\n",
       " 'PDGR637JV1_V04',\n",
       " 'PDBH812DN5_V04_1',\n",
       " 'PDKN339EL8_BL_1',\n",
       " 'PDCT406CN9_V04_1',\n",
       " 'PDGF224MZ2_BL',\n",
       " 'PDKJ872VYL_BL_1',\n",
       " 'PDJJ586MZB_V04_1',\n",
       " 'PDWE197DY8_V04',\n",
       " 'PDNJ443ETG_BL_1',\n",
       " 'PDDU389WVV_BL_1',\n",
       " 'PDYA780NYW_BL',\n",
       " 'PDRF125FR9_BL',\n",
       " 'PDMM050DMA_V04',\n",
       " 'PDXR757WNR_BL_2',\n",
       " 'PDVE077NFG_BL_2',\n",
       " 'PDHG360KWP_V04_1',\n",
       " 'PDVW640VFP_BL',\n",
       " 'PDHH278CJZ_V04',\n",
       " 'PDDG639EDV_BL',\n",
       " 'PDHG360KWP_V04',\n",
       " 'PDHG360KWP_V04_2',\n",
       " 'PDZT233BE7_BL',\n",
       " 'PDXX339LJU_BL_2',\n",
       " 'PDBY162TMB_BL_1',\n",
       " 'PDBT851HER_V04',\n",
       " 'PDLC368NK0_BL_1',\n",
       " 'PDWE197DY8_BL',\n",
       " 'PDVE077NFG_V04_1',\n",
       " 'PDDD831BU8_V04_1',\n",
       " 'PDKJ872VYL_BL_2',\n",
       " 'PDPF915VKU_BL',\n",
       " 'PDDH347KKC_BL_3',\n",
       " 'PDGT740ZXE_V04_1',\n",
       " 'PDTJ033DDH_V04_1',\n",
       " 'PDZF975VVM_BL',\n",
       " 'PDBH812DN5_BL']"
      ]
     },
     "execution_count": 11,
     "metadata": {},
     "output_type": "execute_result"
    }
   ],
   "source": [
    "X_val_list"
   ]
  },
  {
   "cell_type": "code",
   "execution_count": 12,
   "metadata": {},
   "outputs": [
    {
     "data": {
      "text/html": [
       "<div>\n",
       "<style scoped>\n",
       "    .dataframe tbody tr th:only-of-type {\n",
       "        vertical-align: middle;\n",
       "    }\n",
       "\n",
       "    .dataframe tbody tr th {\n",
       "        vertical-align: top;\n",
       "    }\n",
       "\n",
       "    .dataframe thead th {\n",
       "        text-align: right;\n",
       "    }\n",
       "</style>\n",
       "<table border=\"1\" class=\"dataframe\">\n",
       "  <thead>\n",
       "    <tr style=\"text-align: right;\">\n",
       "      <th></th>\n",
       "      <th>img_array</th>\n",
       "      <th>label</th>\n",
       "      <th>PATNO Visit</th>\n",
       "      <th>PATNO Visit_2</th>\n",
       "    </tr>\n",
       "  </thead>\n",
       "  <tbody>\n",
       "    <tr>\n",
       "      <th>0</th>\n",
       "      <td>[[[0.0, 0.0, 0.0, 0.0, 0.0011767841623427358, ...</td>\n",
       "      <td>0</td>\n",
       "      <td>PDAA852XL7_BL</td>\n",
       "      <td>PDAA852XL7_BL</td>\n",
       "    </tr>\n",
       "    <tr>\n",
       "      <th>1</th>\n",
       "      <td>[[[0.0, 0.0, 2.811728418627604e-07, 0.00650700...</td>\n",
       "      <td>0</td>\n",
       "      <td>PDAA852XL7_BL</td>\n",
       "      <td>PDAA852XL7_BL_1</td>\n",
       "    </tr>\n",
       "    <tr>\n",
       "      <th>2</th>\n",
       "      <td>[[[1.1796301740695685, 0.06139827899334666, 2....</td>\n",
       "      <td>3</td>\n",
       "      <td>PDAA852XL7_V04</td>\n",
       "      <td>PDAA852XL7_V04</td>\n",
       "    </tr>\n",
       "    <tr>\n",
       "      <th>3</th>\n",
       "      <td>[[[0.4483691660864112, 2.0802978247019857, 1.4...</td>\n",
       "      <td>3</td>\n",
       "      <td>PDAA852XL7_V04</td>\n",
       "      <td>PDAA852XL7_V04_1</td>\n",
       "    </tr>\n",
       "    <tr>\n",
       "      <th>4</th>\n",
       "      <td>[[[336.42033162287026, 345.48838301793137, 481...</td>\n",
       "      <td>2</td>\n",
       "      <td>PDAD926WRZ_BL</td>\n",
       "      <td>PDAD926WRZ_BL</td>\n",
       "    </tr>\n",
       "    <tr>\n",
       "      <th>...</th>\n",
       "      <td>...</td>\n",
       "      <td>...</td>\n",
       "      <td>...</td>\n",
       "      <td>...</td>\n",
       "    </tr>\n",
       "    <tr>\n",
       "      <th>596</th>\n",
       "      <td>[[[0.0, 0.0, 0.0, 0.0, 0.0, 3.444222347569655e...</td>\n",
       "      <td>5</td>\n",
       "      <td>PDZP161DT6_BL</td>\n",
       "      <td>PDZP161DT6_BL_1</td>\n",
       "    </tr>\n",
       "    <tr>\n",
       "      <th>597</th>\n",
       "      <td>[[[2.8106716349876066e-05, 3.9589970793743544e...</td>\n",
       "      <td>5</td>\n",
       "      <td>PDZP161DT6_V04</td>\n",
       "      <td>PDZP161DT6_V04</td>\n",
       "    </tr>\n",
       "    <tr>\n",
       "      <th>598</th>\n",
       "      <td>[[[0.07870353212478787, 0.4008974827956417, 0....</td>\n",
       "      <td>5</td>\n",
       "      <td>PDZP161DT6_V04</td>\n",
       "      <td>PDZP161DT6_V04_1</td>\n",
       "    </tr>\n",
       "    <tr>\n",
       "      <th>599</th>\n",
       "      <td>[[[0.00036399138914300876, 0.00218888977944204...</td>\n",
       "      <td>2</td>\n",
       "      <td>PDZT233BE7_BL</td>\n",
       "      <td>PDZT233BE7_BL</td>\n",
       "    </tr>\n",
       "    <tr>\n",
       "      <th>600</th>\n",
       "      <td>[[[0.0010962534102054713, 0.04735337449616719,...</td>\n",
       "      <td>2</td>\n",
       "      <td>PDZT233BE7_BL</td>\n",
       "      <td>PDZT233BE7_BL_1</td>\n",
       "    </tr>\n",
       "  </tbody>\n",
       "</table>\n",
       "<p>601 rows × 4 columns</p>\n",
       "</div>"
      ],
      "text/plain": [
       "                                             img_array label     PATNO Visit  \\\n",
       "0    [[[0.0, 0.0, 0.0, 0.0, 0.0011767841623427358, ...     0   PDAA852XL7_BL   \n",
       "1    [[[0.0, 0.0, 2.811728418627604e-07, 0.00650700...     0   PDAA852XL7_BL   \n",
       "2    [[[1.1796301740695685, 0.06139827899334666, 2....     3  PDAA852XL7_V04   \n",
       "3    [[[0.4483691660864112, 2.0802978247019857, 1.4...     3  PDAA852XL7_V04   \n",
       "4    [[[336.42033162287026, 345.48838301793137, 481...     2   PDAD926WRZ_BL   \n",
       "..                                                 ...   ...             ...   \n",
       "596  [[[0.0, 0.0, 0.0, 0.0, 0.0, 3.444222347569655e...     5   PDZP161DT6_BL   \n",
       "597  [[[2.8106716349876066e-05, 3.9589970793743544e...     5  PDZP161DT6_V04   \n",
       "598  [[[0.07870353212478787, 0.4008974827956417, 0....     5  PDZP161DT6_V04   \n",
       "599  [[[0.00036399138914300876, 0.00218888977944204...     2   PDZT233BE7_BL   \n",
       "600  [[[0.0010962534102054713, 0.04735337449616719,...     2   PDZT233BE7_BL   \n",
       "\n",
       "        PATNO Visit_2  \n",
       "0       PDAA852XL7_BL  \n",
       "1     PDAA852XL7_BL_1  \n",
       "2      PDAA852XL7_V04  \n",
       "3    PDAA852XL7_V04_1  \n",
       "4       PDAD926WRZ_BL  \n",
       "..                ...  \n",
       "596   PDZP161DT6_BL_1  \n",
       "597    PDZP161DT6_V04  \n",
       "598  PDZP161DT6_V04_1  \n",
       "599     PDZT233BE7_BL  \n",
       "600   PDZT233BE7_BL_1  \n",
       "\n",
       "[601 rows x 4 columns]"
      ]
     },
     "execution_count": 12,
     "metadata": {},
     "output_type": "execute_result"
    }
   ],
   "source": [
    "m2"
   ]
  },
  {
   "cell_type": "code",
   "execution_count": 13,
   "metadata": {},
   "outputs": [
    {
     "data": {
      "text/html": [
       "<div>\n",
       "<style scoped>\n",
       "    .dataframe tbody tr th:only-of-type {\n",
       "        vertical-align: middle;\n",
       "    }\n",
       "\n",
       "    .dataframe tbody tr th {\n",
       "        vertical-align: top;\n",
       "    }\n",
       "\n",
       "    .dataframe thead th {\n",
       "        text-align: right;\n",
       "    }\n",
       "</style>\n",
       "<table border=\"1\" class=\"dataframe\">\n",
       "  <thead>\n",
       "    <tr style=\"text-align: right;\">\n",
       "      <th></th>\n",
       "      <th>img_array</th>\n",
       "      <th>label</th>\n",
       "      <th>PATNO Visit</th>\n",
       "      <th>PATNO Visit_2</th>\n",
       "    </tr>\n",
       "  </thead>\n",
       "  <tbody>\n",
       "    <tr>\n",
       "      <th>0</th>\n",
       "      <td>[[[0.0, 0.0, 0.0, 0.0, 0.0011767841623427358, ...</td>\n",
       "      <td>0</td>\n",
       "      <td>PDAA852XL7_BL</td>\n",
       "      <td>PDAA852XL7_BL</td>\n",
       "    </tr>\n",
       "    <tr>\n",
       "      <th>2</th>\n",
       "      <td>[[[1.1796301740695685, 0.06139827899334666, 2....</td>\n",
       "      <td>3</td>\n",
       "      <td>PDAA852XL7_V04</td>\n",
       "      <td>PDAA852XL7_V04</td>\n",
       "    </tr>\n",
       "    <tr>\n",
       "      <th>3</th>\n",
       "      <td>[[[0.4483691660864112, 2.0802978247019857, 1.4...</td>\n",
       "      <td>3</td>\n",
       "      <td>PDAA852XL7_V04</td>\n",
       "      <td>PDAA852XL7_V04_1</td>\n",
       "    </tr>\n",
       "    <tr>\n",
       "      <th>4</th>\n",
       "      <td>[[[336.42033162287026, 345.48838301793137, 481...</td>\n",
       "      <td>2</td>\n",
       "      <td>PDAD926WRZ_BL</td>\n",
       "      <td>PDAD926WRZ_BL</td>\n",
       "    </tr>\n",
       "    <tr>\n",
       "      <th>6</th>\n",
       "      <td>[[[168.50113939165993, 231.5434651896967, 635....</td>\n",
       "      <td>2</td>\n",
       "      <td>PDAH499RDX_BL</td>\n",
       "      <td>PDAH499RDX_BL</td>\n",
       "    </tr>\n",
       "    <tr>\n",
       "      <th>...</th>\n",
       "      <td>...</td>\n",
       "      <td>...</td>\n",
       "      <td>...</td>\n",
       "      <td>...</td>\n",
       "    </tr>\n",
       "    <tr>\n",
       "      <th>595</th>\n",
       "      <td>[[[0.0, 0.0, 0.0, 0.0, 0.0, 0.0, 0.0, 9.312944...</td>\n",
       "      <td>5</td>\n",
       "      <td>PDZP161DT6_BL</td>\n",
       "      <td>PDZP161DT6_BL</td>\n",
       "    </tr>\n",
       "    <tr>\n",
       "      <th>596</th>\n",
       "      <td>[[[0.0, 0.0, 0.0, 0.0, 0.0, 3.444222347569655e...</td>\n",
       "      <td>5</td>\n",
       "      <td>PDZP161DT6_BL</td>\n",
       "      <td>PDZP161DT6_BL_1</td>\n",
       "    </tr>\n",
       "    <tr>\n",
       "      <th>597</th>\n",
       "      <td>[[[2.8106716349876066e-05, 3.9589970793743544e...</td>\n",
       "      <td>5</td>\n",
       "      <td>PDZP161DT6_V04</td>\n",
       "      <td>PDZP161DT6_V04</td>\n",
       "    </tr>\n",
       "    <tr>\n",
       "      <th>598</th>\n",
       "      <td>[[[0.07870353212478787, 0.4008974827956417, 0....</td>\n",
       "      <td>5</td>\n",
       "      <td>PDZP161DT6_V04</td>\n",
       "      <td>PDZP161DT6_V04_1</td>\n",
       "    </tr>\n",
       "    <tr>\n",
       "      <th>600</th>\n",
       "      <td>[[[0.0010962534102054713, 0.04735337449616719,...</td>\n",
       "      <td>2</td>\n",
       "      <td>PDZT233BE7_BL</td>\n",
       "      <td>PDZT233BE7_BL_1</td>\n",
       "    </tr>\n",
       "  </tbody>\n",
       "</table>\n",
       "<p>387 rows × 4 columns</p>\n",
       "</div>"
      ],
      "text/plain": [
       "                                             img_array label     PATNO Visit  \\\n",
       "0    [[[0.0, 0.0, 0.0, 0.0, 0.0011767841623427358, ...     0   PDAA852XL7_BL   \n",
       "2    [[[1.1796301740695685, 0.06139827899334666, 2....     3  PDAA852XL7_V04   \n",
       "3    [[[0.4483691660864112, 2.0802978247019857, 1.4...     3  PDAA852XL7_V04   \n",
       "4    [[[336.42033162287026, 345.48838301793137, 481...     2   PDAD926WRZ_BL   \n",
       "6    [[[168.50113939165993, 231.5434651896967, 635....     2   PDAH499RDX_BL   \n",
       "..                                                 ...   ...             ...   \n",
       "595  [[[0.0, 0.0, 0.0, 0.0, 0.0, 0.0, 0.0, 9.312944...     5   PDZP161DT6_BL   \n",
       "596  [[[0.0, 0.0, 0.0, 0.0, 0.0, 3.444222347569655e...     5   PDZP161DT6_BL   \n",
       "597  [[[2.8106716349876066e-05, 3.9589970793743544e...     5  PDZP161DT6_V04   \n",
       "598  [[[0.07870353212478787, 0.4008974827956417, 0....     5  PDZP161DT6_V04   \n",
       "600  [[[0.0010962534102054713, 0.04735337449616719,...     2   PDZT233BE7_BL   \n",
       "\n",
       "        PATNO Visit_2  \n",
       "0       PDAA852XL7_BL  \n",
       "2      PDAA852XL7_V04  \n",
       "3    PDAA852XL7_V04_1  \n",
       "4       PDAD926WRZ_BL  \n",
       "6       PDAH499RDX_BL  \n",
       "..                ...  \n",
       "595     PDZP161DT6_BL  \n",
       "596   PDZP161DT6_BL_1  \n",
       "597    PDZP161DT6_V04  \n",
       "598  PDZP161DT6_V04_1  \n",
       "600   PDZT233BE7_BL_1  \n",
       "\n",
       "[387 rows x 4 columns]"
      ]
     },
     "execution_count": 13,
     "metadata": {},
     "output_type": "execute_result"
    }
   ],
   "source": [
    "m2[~m2['PATNO Visit_2'].isin(X_test_list) & ~m2['PATNO Visit_2'].isin(X_val_list)]"
   ]
  },
  {
   "cell_type": "code",
   "execution_count": 14,
   "metadata": {},
   "outputs": [],
   "source": [
    "newm2=m2[~m2['PATNO Visit_2'].isin(X_test_list) & ~m2['PATNO Visit_2'].isin(X_val_list)]"
   ]
  },
  {
   "cell_type": "code",
   "execution_count": 15,
   "metadata": {},
   "outputs": [
    {
     "data": {
      "text/plain": [
       "387"
      ]
     },
     "execution_count": 15,
     "metadata": {},
     "output_type": "execute_result"
    }
   ],
   "source": [
    "len(newm2)"
   ]
  },
  {
   "cell_type": "code",
   "execution_count": 16,
   "metadata": {},
   "outputs": [],
   "source": [
    "X_train=newm2['img_array']"
   ]
  },
  {
   "cell_type": "code",
   "execution_count": 17,
   "metadata": {},
   "outputs": [],
   "source": [
    "X_train.index=newm2['PATNO Visit_2']"
   ]
  },
  {
   "cell_type": "code",
   "execution_count": 18,
   "metadata": {},
   "outputs": [
    {
     "data": {
      "text/plain": [
       "PATNO Visit_2\n",
       "PDAA852XL7_BL       [[[0.0, 0.0, 0.0, 0.0, 0.0011767841623427358, ...\n",
       "PDAA852XL7_V04      [[[1.1796301740695685, 0.06139827899334666, 2....\n",
       "PDAA852XL7_V04_1    [[[0.4483691660864112, 2.0802978247019857, 1.4...\n",
       "PDAD926WRZ_BL       [[[336.42033162287026, 345.48838301793137, 481...\n",
       "PDAH499RDX_BL       [[[168.50113939165993, 231.5434651896967, 635....\n",
       "                                          ...                        \n",
       "PDZP161DT6_BL       [[[0.0, 0.0, 0.0, 0.0, 0.0, 0.0, 0.0, 9.312944...\n",
       "PDZP161DT6_BL_1     [[[0.0, 0.0, 0.0, 0.0, 0.0, 3.444222347569655e...\n",
       "PDZP161DT6_V04      [[[2.8106716349876066e-05, 3.9589970793743544e...\n",
       "PDZP161DT6_V04_1    [[[0.07870353212478787, 0.4008974827956417, 0....\n",
       "PDZT233BE7_BL_1     [[[0.0010962534102054713, 0.04735337449616719,...\n",
       "Name: img_array, Length: 387, dtype: object"
      ]
     },
     "execution_count": 18,
     "metadata": {},
     "output_type": "execute_result"
    }
   ],
   "source": [
    "X_train"
   ]
  },
  {
   "cell_type": "code",
   "execution_count": 19,
   "metadata": {},
   "outputs": [],
   "source": [
    "y_train=newm2['label']\n",
    "y_train.index=newm2['PATNO Visit_2']"
   ]
  },
  {
   "cell_type": "code",
   "execution_count": 20,
   "metadata": {},
   "outputs": [
    {
     "data": {
      "text/plain": [
       "PATNO Visit_2\n",
       "PDAA852XL7_BL       0\n",
       "PDAA852XL7_V04      3\n",
       "PDAA852XL7_V04_1    3\n",
       "PDAD926WRZ_BL       2\n",
       "PDAH499RDX_BL       2\n",
       "                   ..\n",
       "PDZP161DT6_BL       5\n",
       "PDZP161DT6_BL_1     5\n",
       "PDZP161DT6_V04      5\n",
       "PDZP161DT6_V04_1    5\n",
       "PDZT233BE7_BL_1     2\n",
       "Name: label, Length: 387, dtype: object"
      ]
     },
     "execution_count": 20,
     "metadata": {},
     "output_type": "execute_result"
    }
   ],
   "source": [
    "y_train"
   ]
  },
  {
   "cell_type": "code",
   "execution_count": 21,
   "metadata": {},
   "outputs": [],
   "source": [
    "pd.DataFrame(X_train).to_pickle(\"../../processed_data/PDBP/MRI_nobrain/X_train_img.pkl\")\n",
    "y_train.to_csv('../../processed_data/PDBP/MRI_nobrain/y_train.csv')"
   ]
  },
  {
   "cell_type": "code",
   "execution_count": null,
   "metadata": {},
   "outputs": [],
   "source": []
  },
  {
   "cell_type": "code",
   "execution_count": null,
   "metadata": {},
   "outputs": [],
   "source": []
  },
  {
   "cell_type": "markdown",
   "metadata": {},
   "source": [
    "## 不独立验证集和测试集"
   ]
  },
  {
   "cell_type": "code",
   "execution_count": 9,
   "metadata": {},
   "outputs": [],
   "source": [
    "from sklearn.model_selection import train_test_split\n",
    "X_train, X_test, y_train, y_test = train_test_split(m2['img_array'], m2['label'], test_size=0.2, stratify=m2['label'])"
   ]
  },
  {
   "cell_type": "code",
   "execution_count": 10,
   "metadata": {},
   "outputs": [],
   "source": [
    "pd.DataFrame(X_train).to_pickle(\"../../processed_data/PDBP/MRI_nobrain/X_train_img.pkl\")\n",
    "pd.DataFrame(X_test).to_pickle(\"../../processed_data/PDBP/MRI_nobrain/X_test_img.pkl\")"
   ]
  },
  {
   "cell_type": "code",
   "execution_count": 11,
   "metadata": {},
   "outputs": [],
   "source": [
    "y_train.to_csv('../../processed_data/PDBP/MRI_nobrain/y_train.csv')\n",
    "y_test.to_csv('../../processed_data/PDBP/MRI_nobrain/y_test.csv')"
   ]
  },
  {
   "cell_type": "code",
   "execution_count": 12,
   "metadata": {},
   "outputs": [
    {
     "data": {
      "text/plain": [
       "0    50\n",
       "2    37\n",
       "1    10\n",
       "3     9\n",
       "4     9\n",
       "5     6\n",
       "Name: label, dtype: int64"
      ]
     },
     "execution_count": 12,
     "metadata": {},
     "output_type": "execute_result"
    }
   ],
   "source": [
    "y_test.value_counts()"
   ]
  },
  {
   "cell_type": "code",
   "execution_count": 13,
   "metadata": {},
   "outputs": [
    {
     "data": {
      "text/plain": [
       "0    200\n",
       "2    147\n",
       "1     40\n",
       "4     34\n",
       "3     34\n",
       "5     25\n",
       "Name: label, dtype: int64"
      ]
     },
     "execution_count": 13,
     "metadata": {},
     "output_type": "execute_result"
    }
   ],
   "source": [
    "y_train.value_counts()"
   ]
  },
  {
   "cell_type": "code",
   "execution_count": null,
   "metadata": {},
   "outputs": [],
   "source": []
  }
 ],
 "metadata": {
  "kernelspec": {
   "display_name": "MOGONET",
   "language": "python",
   "name": "python3"
  },
  "language_info": {
   "codemirror_mode": {
    "name": "ipython",
    "version": 3
   },
   "file_extension": ".py",
   "mimetype": "text/x-python",
   "name": "python",
   "nbconvert_exporter": "python",
   "pygments_lexer": "ipython3",
   "version": "3.8.18"
  },
  "orig_nbformat": 4
 },
 "nbformat": 4,
 "nbformat_minor": 2
}
